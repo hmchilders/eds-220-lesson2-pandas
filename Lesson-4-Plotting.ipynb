{
 "cells": [
  {
   "cell_type": "markdown",
   "id": "c591643e-4170-43f5-95bc-8a7e7b5041ec",
   "metadata": {},
   "source": [
    "# Plotting"
   ]
  }
 ],
 "metadata": {
  "kernelspec": {
   "display_name": "Python 3 (ipykernel)",
   "language": "python",
   "name": "python3"
  },
  "language_info": {
   "codemirror_mode": {
    "name": "ipython",
    "version": 3
   },
   "file_extension": ".py",
   "mimetype": "text/x-python",
   "name": "python",
   "nbconvert_exporter": "python",
   "pygments_lexer": "ipython3",
   "version": "3.7.13"
  }
 },
 "nbformat": 4,
 "nbformat_minor": 5
}
